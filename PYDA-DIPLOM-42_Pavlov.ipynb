{
 "cells": [
  {
   "cell_type": "markdown",
   "metadata": {
    "id": "9pcNKXpi9pit"
   },
   "source": [
    "### Задание\n",
    "Дан файл HR.csv с данными по опросу уровня удовлетворенности сотрудниками работой\n",
    "#### 1. Загрузите файл HR.csv в pandas dataframe"
   ]
  },
  {
   "cell_type": "code",
   "execution_count": 1,
   "metadata": {
    "executionInfo": {
     "elapsed": 1974,
     "status": "ok",
     "timestamp": 1684651389202,
     "user": {
      "displayName": "Марк Марковкин",
      "userId": "00556003139487305549"
     },
     "user_tz": -180
    },
    "id": "7cgLpGxKNuHa"
   },
   "outputs": [],
   "source": [
    "import pandas as pd\n",
    "import matplotlib.pyplot as plt\n",
    "import seaborn as sns"
   ]
  },
  {
   "cell_type": "code",
   "execution_count": 5,
   "metadata": {
    "colab": {
     "base_uri": "https://localhost:8080/",
     "height": 206
    },
    "executionInfo": {
     "elapsed": 898,
     "status": "ok",
     "timestamp": 1684651391138,
     "user": {
      "displayName": "Марк Марковкин",
      "userId": "00556003139487305549"
     },
     "user_tz": -180
    },
    "id": "FXvTlWEVOaas",
    "outputId": "51b40c05-8ef5-44ca-bdbe-348bb6ae2dab"
   },
   "outputs": [
    {
     "data": {
      "text/html": [
       "<div>\n",
       "<style scoped>\n",
       "    .dataframe tbody tr th:only-of-type {\n",
       "        vertical-align: middle;\n",
       "    }\n",
       "\n",
       "    .dataframe tbody tr th {\n",
       "        vertical-align: top;\n",
       "    }\n",
       "\n",
       "    .dataframe thead th {\n",
       "        text-align: right;\n",
       "    }\n",
       "</style>\n",
       "<table border=\"1\" class=\"dataframe\">\n",
       "  <thead>\n",
       "    <tr style=\"text-align: right;\">\n",
       "      <th></th>\n",
       "      <th>satisfaction_level</th>\n",
       "      <th>last_evaluation</th>\n",
       "      <th>number_project</th>\n",
       "      <th>average_montly_hours</th>\n",
       "      <th>time_spend_company</th>\n",
       "      <th>Work_accident</th>\n",
       "      <th>left</th>\n",
       "      <th>promotion_last_5years</th>\n",
       "      <th>department</th>\n",
       "      <th>salary</th>\n",
       "    </tr>\n",
       "  </thead>\n",
       "  <tbody>\n",
       "    <tr>\n",
       "      <th>0</th>\n",
       "      <td>0.38</td>\n",
       "      <td>0.53</td>\n",
       "      <td>2</td>\n",
       "      <td>157</td>\n",
       "      <td>3</td>\n",
       "      <td>0</td>\n",
       "      <td>1</td>\n",
       "      <td>0</td>\n",
       "      <td>sales</td>\n",
       "      <td>low</td>\n",
       "    </tr>\n",
       "    <tr>\n",
       "      <th>1</th>\n",
       "      <td>0.80</td>\n",
       "      <td>0.86</td>\n",
       "      <td>5</td>\n",
       "      <td>262</td>\n",
       "      <td>6</td>\n",
       "      <td>0</td>\n",
       "      <td>1</td>\n",
       "      <td>0</td>\n",
       "      <td>sales</td>\n",
       "      <td>medium</td>\n",
       "    </tr>\n",
       "    <tr>\n",
       "      <th>2</th>\n",
       "      <td>0.11</td>\n",
       "      <td>0.88</td>\n",
       "      <td>7</td>\n",
       "      <td>272</td>\n",
       "      <td>4</td>\n",
       "      <td>0</td>\n",
       "      <td>1</td>\n",
       "      <td>0</td>\n",
       "      <td>sales</td>\n",
       "      <td>medium</td>\n",
       "    </tr>\n",
       "    <tr>\n",
       "      <th>3</th>\n",
       "      <td>0.72</td>\n",
       "      <td>0.87</td>\n",
       "      <td>5</td>\n",
       "      <td>223</td>\n",
       "      <td>5</td>\n",
       "      <td>0</td>\n",
       "      <td>1</td>\n",
       "      <td>0</td>\n",
       "      <td>sales</td>\n",
       "      <td>low</td>\n",
       "    </tr>\n",
       "    <tr>\n",
       "      <th>4</th>\n",
       "      <td>0.37</td>\n",
       "      <td>0.52</td>\n",
       "      <td>2</td>\n",
       "      <td>159</td>\n",
       "      <td>3</td>\n",
       "      <td>0</td>\n",
       "      <td>1</td>\n",
       "      <td>0</td>\n",
       "      <td>sales</td>\n",
       "      <td>low</td>\n",
       "    </tr>\n",
       "  </tbody>\n",
       "</table>\n",
       "</div>"
      ],
      "text/plain": [
       "   satisfaction_level  last_evaluation  number_project  average_montly_hours  \\\n",
       "0                0.38             0.53               2                   157   \n",
       "1                0.80             0.86               5                   262   \n",
       "2                0.11             0.88               7                   272   \n",
       "3                0.72             0.87               5                   223   \n",
       "4                0.37             0.52               2                   159   \n",
       "\n",
       "   time_spend_company  Work_accident  left  promotion_last_5years department  \\\n",
       "0                   3              0     1                      0      sales   \n",
       "1                   6              0     1                      0      sales   \n",
       "2                   4              0     1                      0      sales   \n",
       "3                   5              0     1                      0      sales   \n",
       "4                   3              0     1                      0      sales   \n",
       "\n",
       "   salary  \n",
       "0     low  \n",
       "1  medium  \n",
       "2  medium  \n",
       "3     low  \n",
       "4     low  "
      ]
     },
     "execution_count": 5,
     "metadata": {},
     "output_type": "execute_result"
    }
   ],
   "source": [
    "file_path = \"./data/HR.csv\"\n",
    "df = pd.read_csv(file_path)\n",
    "df.head()"
   ]
  },
  {
   "cell_type": "markdown",
   "metadata": {
    "id": "NfVz82-VOq1l"
   },
   "source": [
    "Признаки:\n",
    "+ **satisfaction_level** - Уровень удовлетворенности работой\n",
    "+ **Last_evaluation** - Время с момента последней оценки в годах\n",
    "+ **number_projects** - Количество проектов, выполненных за время работы\n",
    "+ **average_monthly_hours** - Среднее количество часов на рабочем месте в месяц\n",
    "+ **time_spend_company** - Стаж работы в компании в годах\n",
    "+ **work_accident** - Происходили ли несчастные случаи на рабочем месте с сотрудником\n",
    "+ **left** - уволился ли сотрудник\n",
    "+ **promotion_last_5years** - повышался ли сотрудник за последние пять лет\n",
    "+ **department** - отдел в котором работает сотрудник\n",
    "+ **salary** - относительный уровень зарплаты"
   ]
  },
  {
   "cell_type": "markdown",
   "metadata": {
    "id": "kXdU9yaH9llu"
   },
   "source": [
    "#### 2. Рассчитайте основные статистики для переменных\n",
    "(среднее,медиана,мода,мин/макс,сред.отклонение)."
   ]
  },
  {
   "cell_type": "code",
   "execution_count": 6,
   "metadata": {
    "colab": {
     "base_uri": "https://localhost:8080/",
     "height": 237
    },
    "executionInfo": {
     "elapsed": 216,
     "status": "ok",
     "timestamp": 1684651393179,
     "user": {
      "displayName": "Марк Марковкин",
      "userId": "00556003139487305549"
     },
     "user_tz": -180
    },
    "id": "7yf29xZ-Oypo",
    "outputId": "5c8e94e5-fff1-4477-b744-9e78fc541655"
   },
   "outputs": [
    {
     "data": {
      "text/html": [
       "<div>\n",
       "<style scoped>\n",
       "    .dataframe tbody tr th:only-of-type {\n",
       "        vertical-align: middle;\n",
       "    }\n",
       "\n",
       "    .dataframe tbody tr th {\n",
       "        vertical-align: top;\n",
       "    }\n",
       "\n",
       "    .dataframe thead th {\n",
       "        text-align: right;\n",
       "    }\n",
       "</style>\n",
       "<table border=\"1\" class=\"dataframe\">\n",
       "  <thead>\n",
       "    <tr style=\"text-align: right;\">\n",
       "      <th></th>\n",
       "      <th>name</th>\n",
       "      <th>satisfaction_level</th>\n",
       "      <th>last_evaluation</th>\n",
       "      <th>number_project</th>\n",
       "      <th>average_montly_hours</th>\n",
       "      <th>time_spend_company</th>\n",
       "      <th>Work_accident</th>\n",
       "      <th>left</th>\n",
       "      <th>promotion_last_5years</th>\n",
       "    </tr>\n",
       "  </thead>\n",
       "  <tbody>\n",
       "    <tr>\n",
       "      <th>0</th>\n",
       "      <td>min</td>\n",
       "      <td>0.090000</td>\n",
       "      <td>0.360000</td>\n",
       "      <td>2.000000</td>\n",
       "      <td>96.000000</td>\n",
       "      <td>2.000000</td>\n",
       "      <td>0.000000</td>\n",
       "      <td>0.000000</td>\n",
       "      <td>0.000000</td>\n",
       "    </tr>\n",
       "    <tr>\n",
       "      <th>1</th>\n",
       "      <td>max</td>\n",
       "      <td>1.000000</td>\n",
       "      <td>1.000000</td>\n",
       "      <td>7.000000</td>\n",
       "      <td>310.000000</td>\n",
       "      <td>10.000000</td>\n",
       "      <td>1.000000</td>\n",
       "      <td>1.000000</td>\n",
       "      <td>1.000000</td>\n",
       "    </tr>\n",
       "    <tr>\n",
       "      <th>2</th>\n",
       "      <td>mean</td>\n",
       "      <td>0.612834</td>\n",
       "      <td>0.716102</td>\n",
       "      <td>3.803054</td>\n",
       "      <td>201.050337</td>\n",
       "      <td>3.498233</td>\n",
       "      <td>0.144610</td>\n",
       "      <td>0.238083</td>\n",
       "      <td>0.021268</td>\n",
       "    </tr>\n",
       "    <tr>\n",
       "      <th>3</th>\n",
       "      <td>median</td>\n",
       "      <td>0.640000</td>\n",
       "      <td>0.720000</td>\n",
       "      <td>4.000000</td>\n",
       "      <td>200.000000</td>\n",
       "      <td>3.000000</td>\n",
       "      <td>0.000000</td>\n",
       "      <td>0.000000</td>\n",
       "      <td>0.000000</td>\n",
       "    </tr>\n",
       "    <tr>\n",
       "      <th>4</th>\n",
       "      <td>moda</td>\n",
       "      <td>0.100000</td>\n",
       "      <td>0.550000</td>\n",
       "      <td>4.000000</td>\n",
       "      <td>135.000000</td>\n",
       "      <td>3.000000</td>\n",
       "      <td>0.000000</td>\n",
       "      <td>0.000000</td>\n",
       "      <td>0.000000</td>\n",
       "    </tr>\n",
       "    <tr>\n",
       "      <th>5</th>\n",
       "      <td>std</td>\n",
       "      <td>0.248631</td>\n",
       "      <td>0.171169</td>\n",
       "      <td>1.232592</td>\n",
       "      <td>49.943099</td>\n",
       "      <td>1.460136</td>\n",
       "      <td>0.351719</td>\n",
       "      <td>0.425924</td>\n",
       "      <td>0.144281</td>\n",
       "    </tr>\n",
       "  </tbody>\n",
       "</table>\n",
       "</div>"
      ],
      "text/plain": [
       "     name  satisfaction_level  last_evaluation  number_project  \\\n",
       "0     min            0.090000         0.360000        2.000000   \n",
       "1     max            1.000000         1.000000        7.000000   \n",
       "2    mean            0.612834         0.716102        3.803054   \n",
       "3  median            0.640000         0.720000        4.000000   \n",
       "4    moda            0.100000         0.550000        4.000000   \n",
       "5     std            0.248631         0.171169        1.232592   \n",
       "\n",
       "   average_montly_hours  time_spend_company  Work_accident      left  \\\n",
       "0             96.000000            2.000000       0.000000  0.000000   \n",
       "1            310.000000           10.000000       1.000000  1.000000   \n",
       "2            201.050337            3.498233       0.144610  0.238083   \n",
       "3            200.000000            3.000000       0.000000  0.000000   \n",
       "4            135.000000            3.000000       0.000000  0.000000   \n",
       "5             49.943099            1.460136       0.351719  0.425924   \n",
       "\n",
       "   promotion_last_5years  \n",
       "0               0.000000  \n",
       "1               1.000000  \n",
       "2               0.021268  \n",
       "3               0.000000  \n",
       "4               0.000000  \n",
       "5               0.144281  "
      ]
     },
     "execution_count": 6,
     "metadata": {},
     "output_type": "execute_result"
    }
   ],
   "source": [
    "def numeric_df(data):\n",
    "  return df.select_dtypes(include=['float64', 'int64'])\n",
    "\n",
    "def main_stats_results(data):\n",
    "  data = numeric_df(data)\n",
    "  stats = pd.DataFrame({'name': ['min', 'max', 'mean', 'median','moda','std']})\n",
    "  for col in data.columns:\n",
    "    val =  [data[col].min(), data[col].max(), data[col].mean(), data[col].median(), data[col].mode()[0], data[col].std()]\n",
    "    stats.insert(loc=len(stats.columns) , column=col, value=val)\n",
    "  return stats\n",
    "    \n",
    "df_stats = main_stats_results(df)\n",
    "df_stats.head(6)\n"
   ]
  },
  {
   "cell_type": "markdown",
   "metadata": {
    "id": "-33ldkYhIMI9"
   },
   "source": [
    "#### 3. Рассчитайте и визуализировать корреляционную матрицу для количественных переменных. Определите две самые скоррелированные и две наименее скоррелированные переменные"
   ]
  },
  {
   "cell_type": "code",
   "execution_count": 7,
   "metadata": {
    "colab": {
     "base_uri": "https://localhost:8080/",
     "height": 884
    },
    "executionInfo": {
     "elapsed": 1303,
     "status": "ok",
     "timestamp": 1684651397074,
     "user": {
      "displayName": "Марк Марковкин",
      "userId": "00556003139487305549"
     },
     "user_tz": -180
    },
    "id": "3yofdTcnIaS1",
    "outputId": "0b1587b1-4e8b-485e-8267-0ade5dfda61f"
   },
   "outputs": [
    {
     "data": {
      "text/plain": [
       "<AxesSubplot:>"
      ]
     },
     "execution_count": 7,
     "metadata": {},
     "output_type": "execute_result"
    },
    {
     "data": {
      "image/png": "[encoded data removed]",
      "text/plain": [
       "<Figure size 1170x827 with 2 Axes>"
      ]
     },
     "metadata": {},
     "output_type": "display_data"
    }
   ],
   "source": [
    "sns.set(rc={'figure.figsize':(11.7, 8.27)})\n",
    "sns.heatmap(numeric_df(df).corr(), annot=True)"
   ]
  },
  {
   "cell_type": "markdown",
   "metadata": {
    "id": "m2Sa7ffmKt9e"
   },
   "source": [
    "Самая выраженная корреляция видна между столбцами:\n",
    "```\n",
    "['average_monthly_hours'] и ['number_projects']\n",
    "['left'] и ['satisfaction_level']\n",
    "```\n",
    "Прямая корреляция:<br>\n",
    "**Чем больше часов отработки в месяц тем больше проектов сдано сотрудником**<br>\n",
    "Обратная корреляция:<br>\n",
    "**между уровнем удовлетворения от работы и фактом увольнения**\n",
    "<br><br>\n",
    "Самая низкая корреляция между:<br>\n",
    "```\n",
    "['last_evaluation'] и ['promotion_last_5years']\n",
    "['Work_accident'] и ['last_evaluation']\n",
    "```"
   ]
  },
  {
   "cell_type": "markdown",
   "metadata": {
    "id": "t_YQB3aia-PX"
   },
   "source": [
    "#### 4. Рассчитайте сколько сотрудников работает в каждом департаменте."
   ]
  },
  {
   "cell_type": "code",
   "execution_count": 8,
   "metadata": {
    "colab": {
     "base_uri": "https://localhost:8080/"
    },
    "executionInfo": {
     "elapsed": 224,
     "status": "ok",
     "timestamp": 1684651404609,
     "user": {
      "displayName": "Марк Марковкин",
      "userId": "00556003139487305549"
     },
     "user_tz": -180
    },
    "id": "IrvG2sGPa6HX",
    "outputId": "8a69870b-d4cf-4c2e-f12c-354c51dd7a10"
   },
   "outputs": [
    {
     "data": {
      "text/plain": [
       "department\n",
       "IT             1227\n",
       "RandD           787\n",
       "accounting      767\n",
       "hr              739\n",
       "management      630\n",
       "marketing       858\n",
       "product_mng     902\n",
       "sales          4140\n",
       "support        2229\n",
       "technical      2720\n",
       "dtype: int64"
      ]
     },
     "execution_count": 8,
     "metadata": {},
     "output_type": "execute_result"
    }
   ],
   "source": [
    "df[['department']].groupby('department').value_counts()"
   ]
  },
  {
   "cell_type": "markdown",
   "metadata": {
    "id": "V6QF-NwacIZY"
   },
   "source": [
    "#### 5. Показать распределение сотрудников по зарплатам."
   ]
  },
  {
   "cell_type": "code",
   "execution_count": 10,
   "metadata": {
    "colab": {
     "base_uri": "https://localhost:8080/",
     "height": 490
    },
    "executionInfo": {
     "elapsed": 531,
     "status": "ok",
     "timestamp": 1684651409410,
     "user": {
      "displayName": "Марк Марковкин",
      "userId": "00556003139487305549"
     },
     "user_tz": -180
    },
    "id": "gfIs09TqcNrB",
    "outputId": "70cf380b-5685-4d12-8707-b97d14305bf6"
   },
   "outputs": [
    {
     "data": {
      "text/plain": [
       "<AxesSubplot:xlabel='salary', ylabel='count'>"
      ]
     },
     "execution_count": 10,
     "metadata": {},
     "output_type": "execute_result"
    },
    {
     "data": {
      "image/png": "[encoded data removed]",
      "text/plain": [
       "<Figure size 500x500 with 1 Axes>"
      ]
     },
     "metadata": {},
     "output_type": "display_data"
    }
   ],
   "source": [
    "df_salary = pd.DataFrame(df[['salary']].groupby('salary').value_counts().reset_index())\n",
    "df_salary.columns = ['salary','count']\n",
    "df_salary = df_salary.sort_values('count',ascending=True)\n",
    "sns.set(rc={'figure.figsize':(5, 5)})\n",
    "sns.barplot(x='salary', y='count', data=df_salary)"
   ]
  },
  {
   "cell_type": "markdown",
   "metadata": {
    "id": "ji92zHdkfSwx"
   },
   "source": [
    "#### 5.Показать распределение сотрудников по зарплатам в каждом департаменте по отдельности"
   ]
  },
  {
   "cell_type": "code",
   "execution_count": 11,
   "metadata": {
    "colab": {
     "base_uri": "https://localhost:8080/",
     "height": 550
    },
    "executionInfo": {
     "elapsed": 2009,
     "status": "ok",
     "timestamp": 1684651416943,
     "user": {
      "displayName": "Марк Марковкин",
      "userId": "00556003139487305549"
     },
     "user_tz": -180
    },
    "id": "C2eVK9umxzSb",
    "outputId": "2a8a256c-39c3-4ff2-9bb0-69079af05e4a"
   },
   "outputs": [
    {
     "data": {
      "image/png": "[encoded data removed]",
      "text/plain": [
       "<Figure size 1500x600 with 1 Axes>"
      ]
     },
     "metadata": {},
     "output_type": "display_data"
    }
   ],
   "source": [
    "departments = pd.DataFrame(df[['department','salary']].groupby(['department','salary']).value_counts().reset_index())\n",
    "dep_ = departments[['department']].groupby('department').value_counts().reset_index()\n",
    "\n",
    "fig, ax = plt.subplots()\n",
    "\n",
    "for dep in dep_['department']:\n",
    "  level_ = dict()\n",
    "  for level in df_salary['salary'].head().tolist():  \n",
    "    level_[level] = departments[0].loc[(departments['department']== dep) & (departments['salary']==level)].tolist()[0] \n",
    "\n",
    "  ax.bar(dep, level_['low'], color = \"green\", label = dep, alpha = 0.5)\n",
    "  ax.bar(dep, level_['medium'], bottom = level_['low'], color = \"brown\", alpha = 0.5)\n",
    "  ax.bar(dep, level_['high'], bottom = level_['medium']+level_['low'], color = \"blue\", alpha = 0.5)\n",
    "\n",
    "plt.title(\"Level of salary by department\")\n",
    "plt.ylabel(\"Count of employees\")\n",
    "plt.legend([\"Low salary\", \"Medium salary\", \"High salary\"], loc =\"upper left\")\n",
    "\n",
    "ax.set_facecolor('seashell')\n",
    "fig.set_figwidth(15)    #  ширина Figure\n",
    "fig.set_figheight(6)    #  высота Figure\n",
    "fig.set_facecolor('floralwhite')\n",
    "\n",
    "plt.show()"
   ]
  },
  {
   "cell_type": "markdown",
   "metadata": {
    "id": "-6zZujXt89xb"
   },
   "source": [
    "#### 7. Проверить гипотезу, что сотрудники с высоким окладом проводят на работе больше времени, чем сотрудники с низким окладом"
   ]
  },
  {
   "cell_type": "code",
   "execution_count": 12,
   "metadata": {
    "colab": {
     "base_uri": "https://localhost:8080/",
     "height": 206
    },
    "executionInfo": {
     "elapsed": 219,
     "status": "ok",
     "timestamp": 1684651421002,
     "user": {
      "displayName": "Марк Марковкин",
      "userId": "00556003139487305549"
     },
     "user_tz": -180
    },
    "id": "m-FKJe2p9TI6",
    "outputId": "4eb0ed8b-722c-4cce-a768-94f5505d35ba"
   },
   "outputs": [
    {
     "data": {
      "text/html": [
       "<div>\n",
       "<style scoped>\n",
       "    .dataframe tbody tr th:only-of-type {\n",
       "        vertical-align: middle;\n",
       "    }\n",
       "\n",
       "    .dataframe tbody tr th {\n",
       "        vertical-align: top;\n",
       "    }\n",
       "\n",
       "    .dataframe thead tr th {\n",
       "        text-align: left;\n",
       "    }\n",
       "\n",
       "    .dataframe thead tr:last-of-type th {\n",
       "        text-align: right;\n",
       "    }\n",
       "</style>\n",
       "<table border=\"1\" class=\"dataframe\">\n",
       "  <thead>\n",
       "    <tr>\n",
       "      <th></th>\n",
       "      <th colspan=\"4\" halign=\"left\">average_montly_hours</th>\n",
       "    </tr>\n",
       "    <tr>\n",
       "      <th></th>\n",
       "      <th>min</th>\n",
       "      <th>mean</th>\n",
       "      <th>median</th>\n",
       "      <th>max</th>\n",
       "    </tr>\n",
       "    <tr>\n",
       "      <th>salary</th>\n",
       "      <th></th>\n",
       "      <th></th>\n",
       "      <th></th>\n",
       "      <th></th>\n",
       "    </tr>\n",
       "  </thead>\n",
       "  <tbody>\n",
       "    <tr>\n",
       "      <th>high</th>\n",
       "      <td>96</td>\n",
       "      <td>199.867421</td>\n",
       "      <td>199.0</td>\n",
       "      <td>307</td>\n",
       "    </tr>\n",
       "    <tr>\n",
       "      <th>low</th>\n",
       "      <td>96</td>\n",
       "      <td>200.996583</td>\n",
       "      <td>199.0</td>\n",
       "      <td>310</td>\n",
       "    </tr>\n",
       "    <tr>\n",
       "      <th>medium</th>\n",
       "      <td>96</td>\n",
       "      <td>201.338349</td>\n",
       "      <td>201.0</td>\n",
       "      <td>310</td>\n",
       "    </tr>\n",
       "  </tbody>\n",
       "</table>\n",
       "</div>"
      ],
      "text/plain": [
       "       average_montly_hours                        \n",
       "                        min        mean median  max\n",
       "salary                                             \n",
       "high                     96  199.867421  199.0  307\n",
       "low                      96  200.996583  199.0  310\n",
       "medium                   96  201.338349  201.0  310"
      ]
     },
     "execution_count": 12,
     "metadata": {},
     "output_type": "execute_result"
    }
   ],
   "source": [
    "result = df.groupby(['salary']).agg({'average_montly_hours': ['min', 'mean', 'median','max']})\n",
    "result.head()"
   ]
  },
  {
   "cell_type": "markdown",
   "metadata": {
    "id": "dIPN2z-0Clq6"
   },
   "source": [
    "Больше всего времени проводят на работе сотрудники со среднем уровнем зараплат\n",
    "<br>\n",
    "Но тут возникают вопросы, что значит \"проводят время\" на работе?<br>\n",
    "Если фиксация по времени проведения в офисе, то это не совсем корректно. Сотрудники могут покидать место рабочее и быть на выездных встречах."
   ]
  },
  {
   "cell_type": "markdown",
   "metadata": {
    "id": "mDqiYST8EXtR"
   },
   "source": [
    "#### 8.Рассчитать следующие показатели среди уволившихся и не уволившихся сотрудников (по отдельности):\n",
    "+ Доля сотрудников с повышением за последние 5 лет\n",
    "+ Средняя степень удовлетворенности\n",
    "+ Среднее количество проектов"
   ]
  },
  {
   "cell_type": "code",
   "execution_count": 13,
   "metadata": {
    "colab": {
     "base_uri": "https://localhost:8080/"
    },
    "executionInfo": {
     "elapsed": 220,
     "status": "ok",
     "timestamp": 1684653481352,
     "user": {
      "displayName": "Марк Марковкин",
      "userId": "00556003139487305549"
     },
     "user_tz": -180
    },
    "id": "IylpM0bUE1IM",
    "outputId": "d5c2937f-c21c-4ebb-8b96-8489b754ba13"
   },
   "outputs": [
    {
     "name": "stdout",
     "output_type": "stream",
     "text": [
      "Общая доля сотрудников с повышением за 5 лет 2.13%\n",
      "Доля уволившихся после повышения из тех кого повысили  5.96%\n",
      "Доля уволившихся после повышения из всех уволившихся  0.53%\n"
     ]
    }
   ],
   "source": [
    "up_and_left = len(df[( df['promotion_last_5years']==1) & (df['left']==1)])\n",
    "up_and_work = len(df[( df['promotion_last_5years']==1) & (df['left']==0)])\n",
    "all_left = len(df[(df['left']==1)])\n",
    "\n",
    "up_employees = up_and_left + up_and_work\n",
    "\n",
    "print(f\"Общая доля сотрудников с повышением за 5 лет {up_employees/len(df):.2%}\")\n",
    "print(f\"Доля уволившихся после повышения из тех кого повысили  {up_and_left/up_employees:.2%}\")\n",
    "print(f\"Доля уволившихся после повышения из всех уволившихся  {up_and_left/all_left:.2%}\")\n"
   ]
  },
  {
   "cell_type": "code",
   "execution_count": 14,
   "metadata": {
    "colab": {
     "base_uri": "https://localhost:8080/",
     "height": 175
    },
    "executionInfo": {
     "elapsed": 325,
     "status": "ok",
     "timestamp": 1684653482672,
     "user": {
      "displayName": "Марк Марковкин",
      "userId": "00556003139487305549"
     },
     "user_tz": -180
    },
    "id": "Mr63bV2UJlDF",
    "outputId": "d8a5a10b-ea82-431f-a27f-6cc276904fa5"
   },
   "outputs": [
    {
     "data": {
      "text/html": [
       "<div>\n",
       "<style scoped>\n",
       "    .dataframe tbody tr th:only-of-type {\n",
       "        vertical-align: middle;\n",
       "    }\n",
       "\n",
       "    .dataframe tbody tr th {\n",
       "        vertical-align: top;\n",
       "    }\n",
       "\n",
       "    .dataframe thead tr th {\n",
       "        text-align: left;\n",
       "    }\n",
       "\n",
       "    .dataframe thead tr:last-of-type th {\n",
       "        text-align: right;\n",
       "    }\n",
       "</style>\n",
       "<table border=\"1\" class=\"dataframe\">\n",
       "  <thead>\n",
       "    <tr>\n",
       "      <th></th>\n",
       "      <th>satisfaction_level</th>\n",
       "    </tr>\n",
       "    <tr>\n",
       "      <th></th>\n",
       "      <th>mean</th>\n",
       "    </tr>\n",
       "    <tr>\n",
       "      <th>left</th>\n",
       "      <th></th>\n",
       "    </tr>\n",
       "  </thead>\n",
       "  <tbody>\n",
       "    <tr>\n",
       "      <th>0</th>\n",
       "      <td>0.666810</td>\n",
       "    </tr>\n",
       "    <tr>\n",
       "      <th>1</th>\n",
       "      <td>0.440098</td>\n",
       "    </tr>\n",
       "  </tbody>\n",
       "</table>\n",
       "</div>"
      ],
      "text/plain": [
       "     satisfaction_level\n",
       "                   mean\n",
       "left                   \n",
       "0              0.666810\n",
       "1              0.440098"
      ]
     },
     "execution_count": 14,
     "metadata": {},
     "output_type": "execute_result"
    }
   ],
   "source": [
    "result = df.groupby(['left']).agg({'satisfaction_level': ['mean']})\n",
    "result.head()"
   ]
  },
  {
   "cell_type": "code",
   "execution_count": 15,
   "metadata": {
    "colab": {
     "base_uri": "https://localhost:8080/",
     "height": 175
    },
    "executionInfo": {
     "elapsed": 362,
     "status": "ok",
     "timestamp": 1684653484054,
     "user": {
      "displayName": "Марк Марковкин",
      "userId": "00556003139487305549"
     },
     "user_tz": -180
    },
    "id": "6avNB4wfJ_cN",
    "outputId": "9d4cbc22-7d38-4ff8-e48a-a3508963626b"
   },
   "outputs": [
    {
     "data": {
      "text/html": [
       "<div>\n",
       "<style scoped>\n",
       "    .dataframe tbody tr th:only-of-type {\n",
       "        vertical-align: middle;\n",
       "    }\n",
       "\n",
       "    .dataframe tbody tr th {\n",
       "        vertical-align: top;\n",
       "    }\n",
       "\n",
       "    .dataframe thead tr th {\n",
       "        text-align: left;\n",
       "    }\n",
       "\n",
       "    .dataframe thead tr:last-of-type th {\n",
       "        text-align: right;\n",
       "    }\n",
       "</style>\n",
       "<table border=\"1\" class=\"dataframe\">\n",
       "  <thead>\n",
       "    <tr>\n",
       "      <th></th>\n",
       "      <th>number_project</th>\n",
       "    </tr>\n",
       "    <tr>\n",
       "      <th></th>\n",
       "      <th>mean</th>\n",
       "    </tr>\n",
       "    <tr>\n",
       "      <th>left</th>\n",
       "      <th></th>\n",
       "    </tr>\n",
       "  </thead>\n",
       "  <tbody>\n",
       "    <tr>\n",
       "      <th>0</th>\n",
       "      <td>3.786664</td>\n",
       "    </tr>\n",
       "    <tr>\n",
       "      <th>1</th>\n",
       "      <td>3.855503</td>\n",
       "    </tr>\n",
       "  </tbody>\n",
       "</table>\n",
       "</div>"
      ],
      "text/plain": [
       "     number_project\n",
       "               mean\n",
       "left               \n",
       "0          3.786664\n",
       "1          3.855503"
      ]
     },
     "execution_count": 15,
     "metadata": {},
     "output_type": "execute_result"
    }
   ],
   "source": [
    "result = df.groupby(['left']).agg({'number_project': ['mean']})\n",
    "result.head()"
   ]
  },
  {
   "cell_type": "markdown",
   "metadata": {
    "id": "ZAxc-9k4K_H7"
   },
   "source": [
    "#### 9. Разделить данные на тестовую и обучающую выборки.\n",
    "+ Построить модель LDA, предсказывающую уволился ли сотрудник на основе имеющихся факторов (кроме department и salary) \n",
    "+ Оценить качество модели на тестовой выборки"
   ]
  },
  {
   "cell_type": "code",
   "execution_count": 16,
   "metadata": {
    "executionInfo": {
     "elapsed": 255,
     "status": "ok",
     "timestamp": 1684654495417,
     "user": {
      "displayName": "Марк Марковкин",
      "userId": "00556003139487305549"
     },
     "user_tz": -180
    },
    "id": "wlY4kDAZLUJ5"
   },
   "outputs": [],
   "source": [
    "from sklearn.model_selection import train_test_split\n",
    "\n",
    "# убираем столбцы с низкой корреляцией c целевым полем left (Last_evaluation, number_projects)\n",
    "\n",
    "X = df[['satisfaction_level', 'average_montly_hours', 'time_spend_company', 'Work_accident', 'promotion_last_5years']]\n",
    "y = df['left']\n",
    "X_train, X_test, y_train, y_test = train_test_split(X, y, train_size=0.2, random_state=55)"
   ]
  },
  {
   "cell_type": "code",
   "execution_count": 17,
   "metadata": {
    "executionInfo": {
     "elapsed": 1,
     "status": "ok",
     "timestamp": 1684654496356,
     "user": {
      "displayName": "Марк Марковкин",
      "userId": "00556003139487305549"
     },
     "user_tz": -180
    },
    "id": "EIrcsTZyM5cX"
   },
   "outputs": [],
   "source": [
    "from sklearn.discriminant_analysis import LinearDiscriminantAnalysis\n",
    "lda = LinearDiscriminantAnalysis()"
   ]
  },
  {
   "cell_type": "code",
   "execution_count": 18,
   "metadata": {
    "colab": {
     "base_uri": "https://localhost:8080/",
     "height": 74
    },
    "executionInfo": {
     "elapsed": 229,
     "status": "ok",
     "timestamp": 1684654497440,
     "user": {
      "displayName": "Марк Марковкин",
      "userId": "00556003139487305549"
     },
     "user_tz": -180
    },
    "id": "rAMyCkwdNB60",
    "outputId": "0f5ce616-9296-4ead-90c3-337291b822f0"
   },
   "outputs": [
    {
     "data": {
      "text/plain": [
       "LinearDiscriminantAnalysis()"
      ]
     },
     "execution_count": 18,
     "metadata": {},
     "output_type": "execute_result"
    }
   ],
   "source": [
    "lda.fit(X_train, y_train)"
   ]
  },
  {
   "cell_type": "code",
   "execution_count": 19,
   "metadata": {
    "colab": {
     "base_uri": "https://localhost:8080/"
    },
    "executionInfo": {
     "elapsed": 1,
     "status": "ok",
     "timestamp": 1684654498361,
     "user": {
      "displayName": "Марк Марковкин",
      "userId": "00556003139487305549"
     },
     "user_tz": -180
    },
    "id": "VMtUqVt_NM3e",
    "outputId": "98cf71a0-7f51-4683-eca8-a9e0646735f7"
   },
   "outputs": [
    {
     "name": "stdout",
     "output_type": "stream",
     "text": [
      "Точность предсказаний:76.66%\n"
     ]
    }
   ],
   "source": [
    "from sklearn.metrics import accuracy_score\n",
    "acc = accuracy_score(y_test, lda.predict(X_test))\n",
    "print(f\"Точность предсказаний:{acc:.2%}\")"
   ]
  },
  {
   "cell_type": "code",
   "execution_count": null,
   "metadata": {},
   "outputs": [],
   "source": []
  }
 ],
 "metadata": {
  "colab": {
   "authorship_tag": "ABX9TyOR5mGhUPKht+Wk5lZ7wy36",
   "mount_file_id": "1To3n3DpNeqpQOkjrRWWuv7D-0a9PA5Va",
   "provenance": []
  },
  "kernelspec": {
   "display_name": "Python 3 (ipykernel)",
   "language": "python",
   "name": "python3"
  },
  "language_info": {
   "codemirror_mode": {
    "name": "ipython",
    "version": 3
   },
   "file_extension": ".py",
   "mimetype": "text/x-python",
   "name": "python",
   "nbconvert_exporter": "python",
   "pygments_lexer": "ipython3",
   "version": "3.9.13"
  }
 },
 "nbformat": 4,
 "nbformat_minor": 1
}
